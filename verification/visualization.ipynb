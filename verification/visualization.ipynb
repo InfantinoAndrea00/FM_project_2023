{
 "cells": [
  {
   "attachments": {},
   "cell_type": "markdown",
   "metadata": {},
   "source": [
    "# Visualisation script"
   ]
  },
  {
   "cell_type": "code",
   "execution_count": null,
   "metadata": {},
   "outputs": [],
   "source": [
    "import csv\n",
    "import matplotlib.pyplot as plt\n",
    "import numpy as np\n",
    "import os"
   ]
  },
  {
   "cell_type": "code",
   "execution_count": null,
   "metadata": {},
   "outputs": [],
   "source": [
    "def read_file(file: str) -> list[tuple[int, int]]:\n",
    "    data = []\n",
    "    with open('results/{}.csv'.format(file)) as csvfile:\n",
    "        csvfile.readline()\n",
    "        reader =  csv.reader(csvfile, delimiter=',')\n",
    "        for row in reader:\n",
    "            data.append([int(column) for column in row])\n",
    "    return data"
   ]
  },
  {
   "cell_type": "code",
   "execution_count": null,
   "metadata": {},
   "outputs": [],
   "source": [
    "def offset(offset: int, data: list[tuple[int, int]]) -> list[tuple[int, int]]:\n",
    "    new_data = []\n",
    "    for point in data:\n",
    "        new_data.append([point[0], point[1] + offset])\n",
    "    return new_data"
   ]
  },
  {
   "cell_type": "code",
   "execution_count": null,
   "metadata": {},
   "outputs": [],
   "source": [
    "def add(data: list[tuple[int, int]], name: str):\n",
    "    x = []\n",
    "    for row in data:\n",
    "        x.append(row[0])\n",
    "    x = np.array(x)\n",
    "    y = []\n",
    "    for row in data:\n",
    "        y.append(row[1])\n",
    "    y = np.array(y)\n",
    "    plt.plot(x, y, label=name)"
   ]
  },
  {
   "cell_type": "code",
   "execution_count": null,
   "metadata": {},
   "outputs": [],
   "source": [
    "def get_data(min: int, max: int) -> list[list[list[tuple[int, int]]]]:\n",
    "    data = []\n",
    "    files = os.listdir('results')\n",
    "    files.sort()\n",
    "    files = files[min - 1 : max]\n",
    "    index = 0\n",
    "    while index < max - min + 1:\n",
    "        data.append(read_file(files[0][:-4]))\n",
    "        files = files[1:]\n",
    "        index += 1\n",
    "    return data"
   ]
  },
  {
   "cell_type": "code",
   "execution_count": null,
   "metadata": {},
   "outputs": [],
   "source": [
    "def plot_stations(data: list[tuple[int, int]], policy: int):\n",
    "    index = 1\n",
    "    for station in data:\n",
    "        offset_number = len(data) - index\n",
    "        add(offset(5 * offset_number, station), 'Station {}'.format(index))\n",
    "        index += 1\n",
    "    plt.title('Stations - Policy {}'.format(policy))\n",
    "    plt.xlabel('Time')\n",
    "    plt.ylabel('Station\\'s state')\n",
    "    labels = []\n",
    "    index = len(data) - 1\n",
    "    while index >= 0:\n",
    "        labels.append('Idle [{}]'.format(index))\n",
    "        labels.append('Pre-processing [{}]'.format(index))\n",
    "        labels.append('Processing [{}]'.format(index))\n",
    "        labels.append('Done [{}]'.format(index))\n",
    "        if not index == 0:\n",
    "            labels.append('')\n",
    "        index -= 1\n",
    "    plt.yticks(range(0, 5 * 6 - 1), labels)"
   ]
  },
  {
   "cell_type": "code",
   "execution_count": null,
   "metadata": {},
   "outputs": [],
   "source": [
    "def plot_insensors(data: list[tuple[int, int]], policy: int):\n",
    "    index = 1\n",
    "    for sensor in data:\n",
    "        offset_number = (len(data) - index)\n",
    "        add(offset(3 * offset_number, sensor), 'InSensor {}'.format(index))\n",
    "        index += 1\n",
    "    plt.title('InSensors - Policy {}'.format(policy))\n",
    "    plt.xlabel('Time')\n",
    "    plt.ylabel('InSensor\\'s state')\n",
    "    labels = []\n",
    "    index = len(data) - 1\n",
    "    while index >= 0:\n",
    "        labels.append('Unlocked [{}]'.format(index))\n",
    "        labels.append('Locked [{}]'.format(index))\n",
    "        if not index == 0:\n",
    "            labels.append('')\n",
    "        index -= 1\n",
    "    plt.yticks(range(0, 3 * 6 - 1), labels)"
   ]
  },
  {
   "cell_type": "code",
   "execution_count": null,
   "metadata": {},
   "outputs": [],
   "source": [
    "def plot_outsensors(data: list[tuple[int, int]], policy: int):\n",
    "    index = 1\n",
    "    for sensor in data:\n",
    "        offset_number = (len(data) - index)\n",
    "        add(offset(3 * offset_number, sensor), 'OutSensor {}'.format(index))\n",
    "        index += 1\n",
    "    plt.title('OutSensors - Policy {}'.format(policy))\n",
    "    plt.xlabel('Time')\n",
    "    plt.ylabel('OutSensor\\'s state')\n",
    "    labels = []\n",
    "    index = len(data) - 1\n",
    "    while index >= 0:\n",
    "        labels.append('Unlocked [{}]'.format(index))\n",
    "        labels.append('Locked [{}]'.format(index))\n",
    "        if not index == 0:\n",
    "            labels.append('')\n",
    "        index -= 1\n",
    "    plt.yticks(range(0, 3 * 5 - 1), labels)"
   ]
  },
  {
   "cell_type": "code",
   "execution_count": null,
   "metadata": {},
   "outputs": [],
   "source": [
    "def plot(type: str, name: str, policy: int, min: int, max: int, save: bool = False):\n",
    "    if type == 'stations':\n",
    "        plt.figure(figsize=(8, 5), dpi=96)\n",
    "    elif type == 'insensors' or type == 'outsensors':\n",
    "        plt.figure(figsize=(8, 3), dpi=96)\n",
    "    else:\n",
    "        exit(0)\n",
    "    data = get_data(min, max)\n",
    "    if type == 'stations':\n",
    "        plot_stations(data, policy)\n",
    "    elif type == 'insensors':\n",
    "        plot_insensors(data, policy)\n",
    "    elif type == 'outsensors':\n",
    "        plot_outsensors(data, policy)\n",
    "    if save:\n",
    "        plt.savefig('{}_{}.svg'.format(name, type))\n",
    "    else:\n",
    "        plt.show()\n",
    "    plt.close()"
   ]
  },
  {
   "cell_type": "code",
   "execution_count": null,
   "metadata": {},
   "outputs": [],
   "source": [
    "plot('stations', 'scenario0', 2, 1, 6)\n",
    "plot('outsensors', 'scenario0', 2, 7, 11)\n",
    "plot('insensors', 'scenario0', 2, 12, 17)"
   ]
  }
 ],
 "metadata": {
  "kernelspec": {
   "display_name": "Python 3",
   "language": "python",
   "name": "python3"
  },
  "language_info": {
   "codemirror_mode": {
    "name": "ipython",
    "version": 3
   },
   "file_extension": ".py",
   "mimetype": "text/x-python",
   "name": "python",
   "nbconvert_exporter": "python",
   "pygments_lexer": "ipython3",
   "version": "3.11.0"
  },
  "orig_nbformat": 4
 },
 "nbformat": 4,
 "nbformat_minor": 2
}
